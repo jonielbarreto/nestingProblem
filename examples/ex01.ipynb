{
  "nbformat": 4,
  "nbformat_minor": 0,
  "metadata": {
    "colab": {
      "provenance": [],
      "collapsed_sections": [
        "z0ErputIbzHS",
        "ZIyWOHGSMk-7",
        "oieG1_zlL-_l"
      ],
      "mount_file_id": "12C4cOIISAhGp8Q5NgBxkXwoowH60VufH",
      "authorship_tag": "ABX9TyON/gjT4h5ImyZQ1XBtMvGp",
      "include_colab_link": true
    },
    "kernelspec": {
      "name": "python3",
      "display_name": "Python 3"
    },
    "language_info": {
      "name": "python"
    }
  },
  "cells": [
    {
      "cell_type": "markdown",
      "metadata": {
        "id": "view-in-github",
        "colab_type": "text"
      },
      "source": [
        "<a href=\"https://colab.research.google.com/github/jonielbarreto/nestingProblem/blob/main/examples/ex01.ipynb\" target=\"_parent\"><img src=\"https://colab.research.google.com/assets/colab-badge.svg\" alt=\"Open In Colab\"/></a>"
      ]
    },
    {
      "cell_type": "markdown",
      "source": [
        "### Imports"
      ],
      "metadata": {
        "id": "eCVH1l_YelcH"
      }
    },
    {
      "cell_type": "markdown",
      "source": [
        "#### Packages"
      ],
      "metadata": {
        "id": "zeUYX-QXc9dz"
      }
    },
    {
      "cell_type": "code",
      "source": [
        "!pip install git+https://github.com/jonielbarreto/nestingProblem"
      ],
      "metadata": {
        "id": "2kEZMcGNecDU"
      },
      "execution_count": null,
      "outputs": []
    },
    {
      "cell_type": "code",
      "source": [
        "from nestingProblem import nestin_probl_funct"
      ],
      "metadata": {
        "id": "TAqOh_7Weaiw"
      },
      "execution_count": 2,
      "outputs": []
    },
    {
      "cell_type": "markdown",
      "source": [
        "#### Libraries"
      ],
      "metadata": {
        "id": "vrZgiJG4LmPN"
      }
    },
    {
      "cell_type": "code",
      "execution_count": 7,
      "metadata": {
        "id": "ckQfOV4hrkU0"
      },
      "outputs": [],
      "source": [
        "import cv2\n",
        "from glob import glob\n",
        "from google.colab.patches import cv2_imshow"
      ]
    },
    {
      "cell_type": "markdown",
      "source": [
        "### Download images"
      ],
      "metadata": {
        "id": "z0ErputIbzHS"
      }
    },
    {
      "cell_type": "code",
      "source": [
        "!gdown '1VBrWuA36OU_M6QCFsX3Fg-EHrRT5F7yZ'"
      ],
      "metadata": {
        "colab": {
          "base_uri": "https://localhost:8080/"
        },
        "id": "x5cqJcHfGXFt",
        "outputId": "708147e2-af33-4dbb-e71a-9b78766a367c"
      },
      "execution_count": 4,
      "outputs": [
        {
          "output_type": "stream",
          "name": "stdout",
          "text": [
            "Downloading...\n",
            "From: https://drive.google.com/uc?id=1VBrWuA36OU_M6QCFsX3Fg-EHrRT5F7yZ\n",
            "To: /content/componentes.zip\n",
            "\r  0% 0.00/7.79k [00:00<?, ?B/s]\r100% 7.79k/7.79k [00:00<00:00, 27.9MB/s]\n"
          ]
        }
      ]
    },
    {
      "cell_type": "code",
      "source": [
        "!unzip -q \"/content/componentes.zip\" -d \"/content/componentes\""
      ],
      "metadata": {
        "id": "8cCWZjzRCwck"
      },
      "execution_count": 5,
      "outputs": []
    },
    {
      "cell_type": "code",
      "source": [
        "path_img = glob(f'componentes/*.png')"
      ],
      "metadata": {
        "id": "poYZ6b2PDAxd"
      },
      "execution_count": 8,
      "outputs": []
    },
    {
      "cell_type": "markdown",
      "source": [
        "### Test"
      ],
      "metadata": {
        "id": "RBQSJoBUIX8H"
      }
    },
    {
      "cell_type": "code",
      "source": [
        "list_ofPages = nestin_probl_funct(path_img, [150, 110], 2, 'pac.BEST_START')\n",
        "for i in range(len(list_ofPages)):\n",
        "  cv2_imshow(list_ofPages[i])"
      ],
      "metadata": {
        "colab": {
          "base_uri": "https://localhost:8080/",
          "height": 334
        },
        "id": "mTOTNCGMLh-M",
        "outputId": "7558089d-3302-427a-cd25-c38bb3a0a029"
      },
      "execution_count": 9,
      "outputs": [
        {
          "output_type": "stream",
          "name": "stdout",
          "text": [
            "--- Fim da execução ---> 0:03:22.485322\n"
          ]
        },
        {
          "output_type": "display_data",
          "data": {
            "text/plain": [
              "<PIL.Image.Image image mode=L size=110x150 at 0x7FA3643EE260>"
            ],
            "image/png": "[encoded data removed]"
          },
          "metadata": {}
        },
        {
          "output_type": "display_data",
          "data": {
            "text/plain": [
              "<PIL.Image.Image image mode=L size=110x150 at 0x7FA3643EE260>"
            ],
            "image/png": "[encoded data removed]"
          },
          "metadata": {}
        }
      ]
    }
  ]
}